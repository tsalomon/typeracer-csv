{
 "cells": [
  {
   "cell_type": "code",
   "execution_count": 211,
   "metadata": {},
   "outputs": [],
   "source": [
    "import selenium\n",
    "from selenium import webdriver\n",
    "from selenium.webdriver.common.by import By\n",
    "from selenium.webdriver.common.keys import Keys\n",
    "from selenium.common.exceptions import NoSuchElementException        \n"
   ]
  },
  {
   "cell_type": "code",
   "execution_count": 212,
   "metadata": {},
   "outputs": [],
   "source": [
    "driver = webdriver.Chrome()"
   ]
  },
  {
   "cell_type": "code",
   "execution_count": 213,
   "metadata": {},
   "outputs": [],
   "source": [
    "USERNAME = \"notsoslowguy\""
   ]
  },
  {
   "cell_type": "code",
   "execution_count": 214,
   "metadata": {},
   "outputs": [],
   "source": [
    "driver.get(\"https://data.typeracer.com/pit/race_history?user=%s\"%USERNAME)"
   ]
  },
  {
   "cell_type": "code",
   "execution_count": 215,
   "metadata": {},
   "outputs": [],
   "source": [
    "#Go to the site and accept the cookies if you have to"
   ]
  },
  {
   "cell_type": "code",
   "execution_count": 216,
   "metadata": {},
   "outputs": [],
   "source": [
    "from datetime import date\n",
    "\n",
    "today = date.today()\n"
   ]
  },
  {
   "cell_type": "code",
   "execution_count": 217,
   "metadata": {},
   "outputs": [],
   "source": [
    "def findByClass(element, class_name, multiple=False):\n",
    "    if(multiple):\n",
    "        return element.find_elements_by_class_name(class_name)\n",
    "    return element.find_element_by_class_name(class_name)\n",
    "def findByTag(element, tag_name, multiple=False):\n",
    "    if(multiple):\n",
    "        return element.find_elements_by_tag_name(tag_name)\n",
    "    return element.find_element_by_tag_name(tag_name)\n",
    "\n",
    "def findByPartialText(element, text, multiple=False):\n",
    "    return element.find_element_by_xpath(containsTextXpath(text))\n",
    "    \n",
    "def containsTextXpath(text):\n",
    "    return \"//*[contains(text(), \\\"%s\\\")]\"%text\n",
    "def get_table_data(driver):\n",
    "    history = []\n",
    "    \n",
    "    tableData = findByTag(driver, 'body')\n",
    "    rows = findByClass(tableData, 'Scores__Table__Row', multiple=True)\n",
    "    print(len(rows), ' rows found in the table... \\n')\n",
    "    #Finding the headers of the table\n",
    "    header_items = ['index', 'WPM','Accuracy','Points','Position','Date','Replay/Ghost']\n",
    "    headers = list(map(lambda x:x.strip(), header_items))[:]\n",
    "    print('Headers\\n', headers)\n",
    "    print('\\n')\n",
    "    print('Data')\n",
    "    for row in rows[0:]:\n",
    "        table_items = findByTag(row,'div',multiple=True)\n",
    "        tds = list(map(lambda x:x.text.strip(), table_items))[:]\n",
    "        print(tds)\n",
    "        assert len(headers)==len(tds), 'Headers and Data length mismatch' \n",
    "        hist_entry = dict()\n",
    "        \n",
    "        for key, val in zip(headers, tds):\n",
    "            if key=='Date':\n",
    "                val = val.replace('\"',\"\")\n",
    "            if val == 'today':\n",
    "                val = today.strftime(\"%b %d, %Y\")\n",
    "            if key == 'Accuracy':\n",
    "                val = val.replace(\"'\",\"\")\n",
    "                val = val.replace(\"%\",\"\")\n",
    "            if key == 'WPM':\n",
    "                val = val.replace(\"WPM\",\"\")\n",
    "                val = val.replace(\"'\",\"\")\n",
    "                val = val.replace(\" \",\"\")\n",
    "        \n",
    "            val = val.replace(\"'\",\"\")\n",
    "            hist_entry[key] = val\n",
    "            \n",
    "        history.append(hist_entry)\n",
    "        \n",
    "    print(history)\n",
    "    return history\n",
    "\n",
    "def checkExistsByXpath(element, xpath):\n",
    "    try:\n",
    "        element.find_element_by_xpath(xpath)\n",
    "    except NoSuchElementException:\n",
    "        return False\n",
    "    return True\n",
    "def lastPage(driver):\n",
    "    check = \"load older results\"\n",
    "    xpath = containsTextXpath(check)\n",
    "    return not checkExistsByXpath(driver, xpath)\n"
   ]
  },
  {
   "cell_type": "code",
   "execution_count": 218,
   "metadata": {
    "scrolled": false
   },
   "outputs": [
    {
     "name": "stderr",
     "output_type": "stream",
     "text": [
      "C:\\Users\\Tim\\AppData\\Local\\Temp\\ipykernel_13680\\350829602.py:57: DeprecationWarning: find_element_by_* commands are deprecated. Please use find_element() instead\n",
      "  element.find_element_by_xpath(xpath)\n",
      "C:\\Users\\Tim\\AppData\\Local\\Temp\\ipykernel_13680\\350829602.py:8: DeprecationWarning: find_element_by_* commands are deprecated. Please use find_element() instead\n",
      "  return element.find_element_by_tag_name(tag_name)\n",
      "C:\\Users\\Tim\\AppData\\Roaming\\Python\\Python39\\site-packages\\selenium\\webdriver\\remote\\webelement.py:464: UserWarning: find_elements_by_* commands are deprecated. Please use find_elements() instead\n",
      "  warnings.warn(\"find_elements_by_* commands are deprecated. Please use find_elements() instead\")\n",
      "C:\\Users\\Tim\\AppData\\Roaming\\Python\\Python39\\site-packages\\selenium\\webdriver\\remote\\webelement.py:359: UserWarning: find_elements_by_* commands are deprecated. Please use find_elements() instead\n",
      "  warnings.warn(\"find_elements_by_* commands are deprecated. Please use find_elements() instead\")\n"
     ]
    },
    {
     "name": "stdout",
     "output_type": "stream",
     "text": [
      "20  rows found in the table... \n",
      "\n",
      "Headers\n",
      " ['index', 'WPM', 'Accuracy', 'Points', 'Position', 'Date', 'Replay/Ghost']\n",
      "\n",
      "\n",
      "Data\n",
      "['82', '80 WPM', '97.6%', '106', '1/5', 'today', '']\n",
      "['81', '75 WPM', '96.2%', '50', '1/4', 'today', '']\n",
      "['80', '75 WPM', '96.8%', '41', '3/5', 'today', '']\n",
      "['79', '74 WPM', '97.0%', '96', '1/5', 'today', '']\n",
      "['78', '87 WPM', '99.0%', '50', '2/5', 'today', '']\n",
      "['77', '78 WPM', '97.3%', '60', '1/5', 'today', '']\n",
      "['76', '81 WPM', '98.4%', '54', '1/5', 'today', '']\n",
      "['75', '74 WPM', '98.2%', '73', '3/5', 'today', '']\n",
      "['74', '85 WPM', '98.5%', '18', '5/5', 'today', '']\n",
      "['73', '72 WPM', '96.6%', '64', '3/5', 'today', '']\n",
      "['72', '74 WPM', '97.3%', '62', '2/5', 'today', '']\n",
      "['71', '91 WPM', '97.7%', '54', '2/4', 'today', '']\n",
      "['70', '83 WPM', '98.0%', '44', '1/5', 'today', '']\n",
      "['69', '74 WPM', '100.0%', '43', '3/5', 'Jan. 26, 2022', '']\n",
      "['68', '76 WPM', '96.9%', '45', '3/5', 'Jan. 26, 2022', '']\n",
      "['67', '72 WPM', '96.3%', '49', '2/5', 'Jan. 26, 2022', '']\n",
      "['66', '74 WPM', '97.7%', '59', '5/5', 'Jan. 26, 2022', '']\n",
      "['65', '91 WPM', '99.0%', '53', '1/4', 'Jan. 26, 2022', '']\n",
      "['64', '85 WPM', '98.0%', '60', '2/5', 'Jan. 26, 2022', '']\n",
      "['63', '83 WPM', '97.4%', '66', '2/5', 'Jan. 26, 2022', '']\n",
      "[{'index': '82', 'WPM': '80', 'Accuracy': '97.6', 'Points': '106', 'Position': '1/5', 'Date': 'Jan 30, 2022', 'Replay/Ghost': ''}, {'index': '81', 'WPM': '75', 'Accuracy': '96.2', 'Points': '50', 'Position': '1/4', 'Date': 'Jan 30, 2022', 'Replay/Ghost': ''}, {'index': '80', 'WPM': '75', 'Accuracy': '96.8', 'Points': '41', 'Position': '3/5', 'Date': 'Jan 30, 2022', 'Replay/Ghost': ''}, {'index': '79', 'WPM': '74', 'Accuracy': '97.0', 'Points': '96', 'Position': '1/5', 'Date': 'Jan 30, 2022', 'Replay/Ghost': ''}, {'index': '78', 'WPM': '87', 'Accuracy': '99.0', 'Points': '50', 'Position': '2/5', 'Date': 'Jan 30, 2022', 'Replay/Ghost': ''}, {'index': '77', 'WPM': '78', 'Accuracy': '97.3', 'Points': '60', 'Position': '1/5', 'Date': 'Jan 30, 2022', 'Replay/Ghost': ''}, {'index': '76', 'WPM': '81', 'Accuracy': '98.4', 'Points': '54', 'Position': '1/5', 'Date': 'Jan 30, 2022', 'Replay/Ghost': ''}, {'index': '75', 'WPM': '74', 'Accuracy': '98.2', 'Points': '73', 'Position': '3/5', 'Date': 'Jan 30, 2022', 'Replay/Ghost': ''}, {'index': '74', 'WPM': '85', 'Accuracy': '98.5', 'Points': '18', 'Position': '5/5', 'Date': 'Jan 30, 2022', 'Replay/Ghost': ''}, {'index': '73', 'WPM': '72', 'Accuracy': '96.6', 'Points': '64', 'Position': '3/5', 'Date': 'Jan 30, 2022', 'Replay/Ghost': ''}, {'index': '72', 'WPM': '74', 'Accuracy': '97.3', 'Points': '62', 'Position': '2/5', 'Date': 'Jan 30, 2022', 'Replay/Ghost': ''}, {'index': '71', 'WPM': '91', 'Accuracy': '97.7', 'Points': '54', 'Position': '2/4', 'Date': 'Jan 30, 2022', 'Replay/Ghost': ''}, {'index': '70', 'WPM': '83', 'Accuracy': '98.0', 'Points': '44', 'Position': '1/5', 'Date': 'Jan 30, 2022', 'Replay/Ghost': ''}, {'index': '69', 'WPM': '74', 'Accuracy': '100.0', 'Points': '43', 'Position': '3/5', 'Date': 'Jan. 26, 2022', 'Replay/Ghost': ''}, {'index': '68', 'WPM': '76', 'Accuracy': '96.9', 'Points': '45', 'Position': '3/5', 'Date': 'Jan. 26, 2022', 'Replay/Ghost': ''}, {'index': '67', 'WPM': '72', 'Accuracy': '96.3', 'Points': '49', 'Position': '2/5', 'Date': 'Jan. 26, 2022', 'Replay/Ghost': ''}, {'index': '66', 'WPM': '74', 'Accuracy': '97.7', 'Points': '59', 'Position': '5/5', 'Date': 'Jan. 26, 2022', 'Replay/Ghost': ''}, {'index': '65', 'WPM': '91', 'Accuracy': '99.0', 'Points': '53', 'Position': '1/4', 'Date': 'Jan. 26, 2022', 'Replay/Ghost': ''}, {'index': '64', 'WPM': '85', 'Accuracy': '98.0', 'Points': '60', 'Position': '2/5', 'Date': 'Jan. 26, 2022', 'Replay/Ghost': ''}, {'index': '63', 'WPM': '83', 'Accuracy': '97.4', 'Points': '66', 'Position': '2/5', 'Date': 'Jan. 26, 2022', 'Replay/Ghost': ''}]\n"
     ]
    },
    {
     "name": "stderr",
     "output_type": "stream",
     "text": [
      "C:\\Users\\Tim\\AppData\\Local\\Temp\\ipykernel_13680\\350829602.py:11: DeprecationWarning: find_element_by_* commands are deprecated. Please use find_element() instead\n",
      "  return element.find_element_by_xpath(containsTextXpath(text))\n"
     ]
    },
    {
     "name": "stdout",
     "output_type": "stream",
     "text": [
      "20  rows found in the table... \n",
      "\n",
      "Headers\n",
      " ['index', 'WPM', 'Accuracy', 'Points', 'Position', 'Date', 'Replay/Ghost']\n",
      "\n",
      "\n",
      "Data\n",
      "['62', '68 WPM', '97.3%', '39', '2/5', 'Jan. 26, 2022', '']\n",
      "['61', '75 WPM', '98.0%', '75', '4/5', 'Jan. 26, 2022', '']\n",
      "['60', '79 WPM', '97.3%', '50', '4/5', 'Jan. 26, 2022', '']\n",
      "['59', '82 WPM', '97.7%', '93', '2/5', 'Jan. 26, 2022', '']\n",
      "['58', '71 WPM', '95.9%', '27', '3/5', 'Jan. 26, 2022', '']\n",
      "['57', '73 WPM', '96.5%', '40', '3/5', 'Jan. 26, 2022', '']\n",
      "['56', '90 WPM', '98.6%', '161', '2/5', 'Jan. 26, 2022', '']\n",
      "['55', '79 WPM', '97.4%', '90', '2/5', 'Jan. 24, 2022', '']\n",
      "['54', '80 WPM', '97.4%', '69', '2/5', 'Jan. 24, 2022', '']\n",
      "['53', '69 WPM', '95.9%', '99', '2/4', 'Jan. 24, 2022', '']\n",
      "['52', '88 WPM', '98.1%', '69', '1/5', 'Jan. 24, 2022', '']\n",
      "['51', '83 WPM', '98.0%', '77', '1/5', 'Jan. 24, 2022', '']\n",
      "['50', '80 WPM', '97.4%', '61', '3/5', 'Jan. 24, 2022', '']\n",
      "['49', '84 WPM', '97.8%', '148', '3/5', 'Jan. 24, 2022', '']\n",
      "['48', '68 WPM', '97.1%', '85', '5/5', 'Jan. 24, 2022', '']\n",
      "['47', '81 WPM', '97.8%', '70', '2/5', 'Jan. 24, 2022', '']\n",
      "['46', '85 WPM', '98.0%', '89', '2/4', 'Jan. 24, 2022', '']\n",
      "['45', '87 WPM', '98.7%', '95', '1/5', 'Jan. 24, 2022', '']\n",
      "['44', '67 WPM', '95.1%', '58', '4/4', 'Jan. 22, 2022', '']\n",
      "['43', '74 WPM', '96.8%', '43', '4/5', 'Jan. 22, 2022', '']\n",
      "[{'index': '62', 'WPM': '68', 'Accuracy': '97.3', 'Points': '39', 'Position': '2/5', 'Date': 'Jan. 26, 2022', 'Replay/Ghost': ''}, {'index': '61', 'WPM': '75', 'Accuracy': '98.0', 'Points': '75', 'Position': '4/5', 'Date': 'Jan. 26, 2022', 'Replay/Ghost': ''}, {'index': '60', 'WPM': '79', 'Accuracy': '97.3', 'Points': '50', 'Position': '4/5', 'Date': 'Jan. 26, 2022', 'Replay/Ghost': ''}, {'index': '59', 'WPM': '82', 'Accuracy': '97.7', 'Points': '93', 'Position': '2/5', 'Date': 'Jan. 26, 2022', 'Replay/Ghost': ''}, {'index': '58', 'WPM': '71', 'Accuracy': '95.9', 'Points': '27', 'Position': '3/5', 'Date': 'Jan. 26, 2022', 'Replay/Ghost': ''}, {'index': '57', 'WPM': '73', 'Accuracy': '96.5', 'Points': '40', 'Position': '3/5', 'Date': 'Jan. 26, 2022', 'Replay/Ghost': ''}, {'index': '56', 'WPM': '90', 'Accuracy': '98.6', 'Points': '161', 'Position': '2/5', 'Date': 'Jan. 26, 2022', 'Replay/Ghost': ''}, {'index': '55', 'WPM': '79', 'Accuracy': '97.4', 'Points': '90', 'Position': '2/5', 'Date': 'Jan. 24, 2022', 'Replay/Ghost': ''}, {'index': '54', 'WPM': '80', 'Accuracy': '97.4', 'Points': '69', 'Position': '2/5', 'Date': 'Jan. 24, 2022', 'Replay/Ghost': ''}, {'index': '53', 'WPM': '69', 'Accuracy': '95.9', 'Points': '99', 'Position': '2/4', 'Date': 'Jan. 24, 2022', 'Replay/Ghost': ''}, {'index': '52', 'WPM': '88', 'Accuracy': '98.1', 'Points': '69', 'Position': '1/5', 'Date': 'Jan. 24, 2022', 'Replay/Ghost': ''}, {'index': '51', 'WPM': '83', 'Accuracy': '98.0', 'Points': '77', 'Position': '1/5', 'Date': 'Jan. 24, 2022', 'Replay/Ghost': ''}, {'index': '50', 'WPM': '80', 'Accuracy': '97.4', 'Points': '61', 'Position': '3/5', 'Date': 'Jan. 24, 2022', 'Replay/Ghost': ''}, {'index': '49', 'WPM': '84', 'Accuracy': '97.8', 'Points': '148', 'Position': '3/5', 'Date': 'Jan. 24, 2022', 'Replay/Ghost': ''}, {'index': '48', 'WPM': '68', 'Accuracy': '97.1', 'Points': '85', 'Position': '5/5', 'Date': 'Jan. 24, 2022', 'Replay/Ghost': ''}, {'index': '47', 'WPM': '81', 'Accuracy': '97.8', 'Points': '70', 'Position': '2/5', 'Date': 'Jan. 24, 2022', 'Replay/Ghost': ''}, {'index': '46', 'WPM': '85', 'Accuracy': '98.0', 'Points': '89', 'Position': '2/4', 'Date': 'Jan. 24, 2022', 'Replay/Ghost': ''}, {'index': '45', 'WPM': '87', 'Accuracy': '98.7', 'Points': '95', 'Position': '1/5', 'Date': 'Jan. 24, 2022', 'Replay/Ghost': ''}, {'index': '44', 'WPM': '67', 'Accuracy': '95.1', 'Points': '58', 'Position': '4/4', 'Date': 'Jan. 22, 2022', 'Replay/Ghost': ''}, {'index': '43', 'WPM': '74', 'Accuracy': '96.8', 'Points': '43', 'Position': '4/5', 'Date': 'Jan. 22, 2022', 'Replay/Ghost': ''}]\n",
      "20  rows found in the table... \n",
      "\n",
      "Headers\n",
      " ['index', 'WPM', 'Accuracy', 'Points', 'Position', 'Date', 'Replay/Ghost']\n",
      "\n",
      "\n",
      "Data\n",
      "['42', '67 WPM', '96.6%', '42', '2/5', 'Jan. 22, 2022', '']\n",
      "['41', '71 WPM', '97.2%', '63', '2/5', 'Jan. 22, 2022', '']\n",
      "['40', '74 WPM', '97.3%', '87', '3/5', 'Jan. 22, 2022', '']\n",
      "['39', '71 WPM', '96.7%', '58', '3/4', 'Jan. 22, 2022', '']\n",
      "['38', '78 WPM', '97.2%', '64', '1/5', 'Jan. 22, 2022', '']\n",
      "['37', '77 WPM', '97.5%', '87', '2/5', 'Jan. 22, 2022', '']\n",
      "['36', '79 WPM', '98.0%', '63', '3/5', 'Jan. 22, 2022', '']\n",
      "['35', '83 WPM', '98.3%', '33', '1/5', 'Jan. 22, 2022', '']\n",
      "['34', '75 WPM', '96.9%', '35', '4/5', 'Jan. 22, 2022', '']\n",
      "['33', '71 WPM', '95.6%', '49', '4/5', 'Jan. 22, 2022', '']\n",
      "['32', '69 WPM', '97.8%', '57', '1/5', 'Jan. 22, 2022', '']\n",
      "['31', '72 WPM', '97.0%', '72', '3/5', 'Jan. 22, 2022', '']\n",
      "['30', '75 WPM', '96.9%', '29', '2/5', 'Jan. 22, 2022', '']\n",
      "['29', '77 WPM', '98.2%', '92', '5/5', 'Jan. 22, 2022', '']\n",
      "['28', '63 WPM', '96.5%', '71', '1/5', 'Jan. 22, 2022', '']\n",
      "['27', '74 WPM', '97.0%', '56', '1/5', 'Jan. 22, 2022', '']\n",
      "['26', '75 WPM', '96.9%', '97', '1/5', 'Jan. 22, 2022', '']\n",
      "['25', '77 WPM', '97.4%', '40', '3/5', 'Jan. 22, 2022', '']\n",
      "['24', '68 WPM', '97.6%', '45', '2/5', 'Jan. 22, 2022', '']\n",
      "['23', '74 WPM', '96.8%', '73', '1/5', 'Jan. 22, 2022', '']\n",
      "[{'index': '42', 'WPM': '67', 'Accuracy': '96.6', 'Points': '42', 'Position': '2/5', 'Date': 'Jan. 22, 2022', 'Replay/Ghost': ''}, {'index': '41', 'WPM': '71', 'Accuracy': '97.2', 'Points': '63', 'Position': '2/5', 'Date': 'Jan. 22, 2022', 'Replay/Ghost': ''}, {'index': '40', 'WPM': '74', 'Accuracy': '97.3', 'Points': '87', 'Position': '3/5', 'Date': 'Jan. 22, 2022', 'Replay/Ghost': ''}, {'index': '39', 'WPM': '71', 'Accuracy': '96.7', 'Points': '58', 'Position': '3/4', 'Date': 'Jan. 22, 2022', 'Replay/Ghost': ''}, {'index': '38', 'WPM': '78', 'Accuracy': '97.2', 'Points': '64', 'Position': '1/5', 'Date': 'Jan. 22, 2022', 'Replay/Ghost': ''}, {'index': '37', 'WPM': '77', 'Accuracy': '97.5', 'Points': '87', 'Position': '2/5', 'Date': 'Jan. 22, 2022', 'Replay/Ghost': ''}, {'index': '36', 'WPM': '79', 'Accuracy': '98.0', 'Points': '63', 'Position': '3/5', 'Date': 'Jan. 22, 2022', 'Replay/Ghost': ''}, {'index': '35', 'WPM': '83', 'Accuracy': '98.3', 'Points': '33', 'Position': '1/5', 'Date': 'Jan. 22, 2022', 'Replay/Ghost': ''}, {'index': '34', 'WPM': '75', 'Accuracy': '96.9', 'Points': '35', 'Position': '4/5', 'Date': 'Jan. 22, 2022', 'Replay/Ghost': ''}, {'index': '33', 'WPM': '71', 'Accuracy': '95.6', 'Points': '49', 'Position': '4/5', 'Date': 'Jan. 22, 2022', 'Replay/Ghost': ''}, {'index': '32', 'WPM': '69', 'Accuracy': '97.8', 'Points': '57', 'Position': '1/5', 'Date': 'Jan. 22, 2022', 'Replay/Ghost': ''}, {'index': '31', 'WPM': '72', 'Accuracy': '97.0', 'Points': '72', 'Position': '3/5', 'Date': 'Jan. 22, 2022', 'Replay/Ghost': ''}, {'index': '30', 'WPM': '75', 'Accuracy': '96.9', 'Points': '29', 'Position': '2/5', 'Date': 'Jan. 22, 2022', 'Replay/Ghost': ''}, {'index': '29', 'WPM': '77', 'Accuracy': '98.2', 'Points': '92', 'Position': '5/5', 'Date': 'Jan. 22, 2022', 'Replay/Ghost': ''}, {'index': '28', 'WPM': '63', 'Accuracy': '96.5', 'Points': '71', 'Position': '1/5', 'Date': 'Jan. 22, 2022', 'Replay/Ghost': ''}, {'index': '27', 'WPM': '74', 'Accuracy': '97.0', 'Points': '56', 'Position': '1/5', 'Date': 'Jan. 22, 2022', 'Replay/Ghost': ''}, {'index': '26', 'WPM': '75', 'Accuracy': '96.9', 'Points': '97', 'Position': '1/5', 'Date': 'Jan. 22, 2022', 'Replay/Ghost': ''}, {'index': '25', 'WPM': '77', 'Accuracy': '97.4', 'Points': '40', 'Position': '3/5', 'Date': 'Jan. 22, 2022', 'Replay/Ghost': ''}, {'index': '24', 'WPM': '68', 'Accuracy': '97.6', 'Points': '45', 'Position': '2/5', 'Date': 'Jan. 22, 2022', 'Replay/Ghost': ''}, {'index': '23', 'WPM': '74', 'Accuracy': '96.8', 'Points': '73', 'Position': '1/5', 'Date': 'Jan. 22, 2022', 'Replay/Ghost': ''}]\n",
      "20  rows found in the table... \n",
      "\n",
      "Headers\n",
      " ['index', 'WPM', 'Accuracy', 'Points', 'Position', 'Date', 'Replay/Ghost']\n",
      "\n",
      "\n",
      "Data\n",
      "['22', '66 WPM', '95.7%', '82', '2/5', 'Jan. 22, 2022', '']\n",
      "['21', '79 WPM', '97.4%', '76', '2/5', 'Jan. 22, 2022', '']\n",
      "['20', '74 WPM', '97.6%', '69', '1/5', 'Jan. 22, 2022', '']\n",
      "['19', '55 WPM', '95.3%', '33', '3/5', 'Jan. 22, 2022', '']\n",
      "['18', '70 WPM', '96.3%', '113', '4/5', 'Jan. 22, 2022', '']\n",
      "['17', '76 WPM', '96.0%', '96', '3/5', 'Jan. 22, 2022', '']\n",
      "['16', '61 WPM', '95.7%', '42', '1/5', 'Jan. 22, 2022', '']\n"
     ]
    },
    {
     "name": "stdout",
     "output_type": "stream",
     "text": [
      "['15', '71 WPM', '96.7%', '159', '2/5', 'Jan. 22, 2022', '']\n",
      "['14', '68 WPM', '95.9%', '102', '3/4', 'Jan. 22, 2022', '']\n",
      "['13', '84 WPM', '98.1%', '38', '3/5', 'Jan. 22, 2022', '']\n",
      "['12', '66 WPM', '97.1%', '62', '2/5', 'Jan. 22, 2022', '']\n",
      "['11', '74 WPM', '97.1%', '65', '1/5', 'Jan. 22, 2022', '']\n",
      "['10', '62 WPM', '95.4%', '40', '2/5', 'Jan. 22, 2022', '']\n",
      "['9', '71 WPM', '97.5%', '26', '2/5', 'Jan. 22, 2022', '']\n",
      "['8', '75 WPM', '97.7%', '61', '2/5', 'Dec. 15, 2021', '']\n",
      "['7', '65 WPM', '95.5%', '24', '2/3', 'Dec. 15, 2021', '']\n",
      "['6', '64 WPM', '96.6%', '33', '2/3', 'Dec. 7, 2021', '']\n",
      "['5', '71 WPM', '97.2%', '81', '1/5', 'Dec. 7, 2021', '']\n",
      "['4', '67 WPM', '96.3%', '81', '4/5', 'Dec. 7, 2021', '']\n",
      "['3', '73 WPM', '96.5%', '70', '4/5', 'Dec. 7, 2021', '']\n",
      "[{'index': '22', 'WPM': '66', 'Accuracy': '95.7', 'Points': '82', 'Position': '2/5', 'Date': 'Jan. 22, 2022', 'Replay/Ghost': ''}, {'index': '21', 'WPM': '79', 'Accuracy': '97.4', 'Points': '76', 'Position': '2/5', 'Date': 'Jan. 22, 2022', 'Replay/Ghost': ''}, {'index': '20', 'WPM': '74', 'Accuracy': '97.6', 'Points': '69', 'Position': '1/5', 'Date': 'Jan. 22, 2022', 'Replay/Ghost': ''}, {'index': '19', 'WPM': '55', 'Accuracy': '95.3', 'Points': '33', 'Position': '3/5', 'Date': 'Jan. 22, 2022', 'Replay/Ghost': ''}, {'index': '18', 'WPM': '70', 'Accuracy': '96.3', 'Points': '113', 'Position': '4/5', 'Date': 'Jan. 22, 2022', 'Replay/Ghost': ''}, {'index': '17', 'WPM': '76', 'Accuracy': '96.0', 'Points': '96', 'Position': '3/5', 'Date': 'Jan. 22, 2022', 'Replay/Ghost': ''}, {'index': '16', 'WPM': '61', 'Accuracy': '95.7', 'Points': '42', 'Position': '1/5', 'Date': 'Jan. 22, 2022', 'Replay/Ghost': ''}, {'index': '15', 'WPM': '71', 'Accuracy': '96.7', 'Points': '159', 'Position': '2/5', 'Date': 'Jan. 22, 2022', 'Replay/Ghost': ''}, {'index': '14', 'WPM': '68', 'Accuracy': '95.9', 'Points': '102', 'Position': '3/4', 'Date': 'Jan. 22, 2022', 'Replay/Ghost': ''}, {'index': '13', 'WPM': '84', 'Accuracy': '98.1', 'Points': '38', 'Position': '3/5', 'Date': 'Jan. 22, 2022', 'Replay/Ghost': ''}, {'index': '12', 'WPM': '66', 'Accuracy': '97.1', 'Points': '62', 'Position': '2/5', 'Date': 'Jan. 22, 2022', 'Replay/Ghost': ''}, {'index': '11', 'WPM': '74', 'Accuracy': '97.1', 'Points': '65', 'Position': '1/5', 'Date': 'Jan. 22, 2022', 'Replay/Ghost': ''}, {'index': '10', 'WPM': '62', 'Accuracy': '95.4', 'Points': '40', 'Position': '2/5', 'Date': 'Jan. 22, 2022', 'Replay/Ghost': ''}, {'index': '9', 'WPM': '71', 'Accuracy': '97.5', 'Points': '26', 'Position': '2/5', 'Date': 'Jan. 22, 2022', 'Replay/Ghost': ''}, {'index': '8', 'WPM': '75', 'Accuracy': '97.7', 'Points': '61', 'Position': '2/5', 'Date': 'Dec. 15, 2021', 'Replay/Ghost': ''}, {'index': '7', 'WPM': '65', 'Accuracy': '95.5', 'Points': '24', 'Position': '2/3', 'Date': 'Dec. 15, 2021', 'Replay/Ghost': ''}, {'index': '6', 'WPM': '64', 'Accuracy': '96.6', 'Points': '33', 'Position': '2/3', 'Date': 'Dec. 7, 2021', 'Replay/Ghost': ''}, {'index': '5', 'WPM': '71', 'Accuracy': '97.2', 'Points': '81', 'Position': '1/5', 'Date': 'Dec. 7, 2021', 'Replay/Ghost': ''}, {'index': '4', 'WPM': '67', 'Accuracy': '96.3', 'Points': '81', 'Position': '4/5', 'Date': 'Dec. 7, 2021', 'Replay/Ghost': ''}, {'index': '3', 'WPM': '73', 'Accuracy': '96.5', 'Points': '70', 'Position': '4/5', 'Date': 'Dec. 7, 2021', 'Replay/Ghost': ''}]\n",
      "2  rows found in the table... \n",
      "\n",
      "Headers\n",
      " ['index', 'WPM', 'Accuracy', 'Points', 'Position', 'Date', 'Replay/Ghost']\n",
      "\n",
      "\n",
      "Data\n",
      "['2', '76 WPM', '97.6%', '55', '3/4', 'Dec. 7, 2021', '']\n",
      "['1', '79 WPM', '98.0%', '45', '1/5', 'Dec. 7, 2021', '']\n",
      "[{'index': '2', 'WPM': '76', 'Accuracy': '97.6', 'Points': '55', 'Position': '3/4', 'Date': 'Dec. 7, 2021', 'Replay/Ghost': ''}, {'index': '1', 'WPM': '79', 'Accuracy': '98.0', 'Points': '45', 'Position': '1/5', 'Date': 'Dec. 7, 2021', 'Replay/Ghost': ''}]\n"
     ]
    }
   ],
   "source": [
    "all_history = []\n",
    "while(not lastPage(driver)):\n",
    "    history = get_table_data(driver)\n",
    "    all_history+=history\n",
    "    next_page = findByPartialText(driver, \"older results\")\n",
    "    next_page.click()\n",
    "#Fetching the last pages data!\n",
    "history = get_table_data(driver)\n",
    "all_history+=history"
   ]
  },
  {
   "cell_type": "code",
   "execution_count": 219,
   "metadata": {
    "scrolled": true
   },
   "outputs": [
    {
     "data": {
      "text/plain": [
       "82"
      ]
     },
     "execution_count": 219,
     "metadata": {},
     "output_type": "execute_result"
    }
   ],
   "source": [
    "len(all_history)"
   ]
  },
  {
   "cell_type": "code",
   "execution_count": 220,
   "metadata": {},
   "outputs": [],
   "source": [
    "import pandas as pd\n",
    "df = pd.DataFrame(all_history)"
   ]
  },
  {
   "cell_type": "code",
   "execution_count": 221,
   "metadata": {},
   "outputs": [
    {
     "data": {
      "text/html": [
       "<div>\n",
       "<style scoped>\n",
       "    .dataframe tbody tr th:only-of-type {\n",
       "        vertical-align: middle;\n",
       "    }\n",
       "\n",
       "    .dataframe tbody tr th {\n",
       "        vertical-align: top;\n",
       "    }\n",
       "\n",
       "    .dataframe thead th {\n",
       "        text-align: right;\n",
       "    }\n",
       "</style>\n",
       "<table border=\"1\" class=\"dataframe\">\n",
       "  <thead>\n",
       "    <tr style=\"text-align: right;\">\n",
       "      <th></th>\n",
       "      <th>index</th>\n",
       "      <th>WPM</th>\n",
       "      <th>Accuracy</th>\n",
       "      <th>Points</th>\n",
       "      <th>Position</th>\n",
       "      <th>Date</th>\n",
       "      <th>Replay/Ghost</th>\n",
       "    </tr>\n",
       "  </thead>\n",
       "  <tbody>\n",
       "    <tr>\n",
       "      <th>0</th>\n",
       "      <td>82</td>\n",
       "      <td>80</td>\n",
       "      <td>97.6</td>\n",
       "      <td>106</td>\n",
       "      <td>1/5</td>\n",
       "      <td>Jan 30, 2022</td>\n",
       "      <td></td>\n",
       "    </tr>\n",
       "    <tr>\n",
       "      <th>1</th>\n",
       "      <td>81</td>\n",
       "      <td>75</td>\n",
       "      <td>96.2</td>\n",
       "      <td>50</td>\n",
       "      <td>1/4</td>\n",
       "      <td>Jan 30, 2022</td>\n",
       "      <td></td>\n",
       "    </tr>\n",
       "    <tr>\n",
       "      <th>2</th>\n",
       "      <td>80</td>\n",
       "      <td>75</td>\n",
       "      <td>96.8</td>\n",
       "      <td>41</td>\n",
       "      <td>3/5</td>\n",
       "      <td>Jan 30, 2022</td>\n",
       "      <td></td>\n",
       "    </tr>\n",
       "    <tr>\n",
       "      <th>3</th>\n",
       "      <td>79</td>\n",
       "      <td>74</td>\n",
       "      <td>97.0</td>\n",
       "      <td>96</td>\n",
       "      <td>1/5</td>\n",
       "      <td>Jan 30, 2022</td>\n",
       "      <td></td>\n",
       "    </tr>\n",
       "    <tr>\n",
       "      <th>4</th>\n",
       "      <td>78</td>\n",
       "      <td>87</td>\n",
       "      <td>99.0</td>\n",
       "      <td>50</td>\n",
       "      <td>2/5</td>\n",
       "      <td>Jan 30, 2022</td>\n",
       "      <td></td>\n",
       "    </tr>\n",
       "  </tbody>\n",
       "</table>\n",
       "</div>"
      ],
      "text/plain": [
       "  index WPM Accuracy Points Position          Date Replay/Ghost\n",
       "0    82  80     97.6    106      1/5  Jan 30, 2022             \n",
       "1    81  75     96.2     50      1/4  Jan 30, 2022             \n",
       "2    80  75     96.8     41      3/5  Jan 30, 2022             \n",
       "3    79  74     97.0     96      1/5  Jan 30, 2022             \n",
       "4    78  87     99.0     50      2/5  Jan 30, 2022             "
      ]
     },
     "execution_count": 221,
     "metadata": {},
     "output_type": "execute_result"
    }
   ],
   "source": [
    "df.head()"
   ]
  },
  {
   "cell_type": "code",
   "execution_count": 222,
   "metadata": {},
   "outputs": [],
   "source": [
    "df.to_csv('C:/Users/Tim/Documents/Typeracer/typeracer_data.csv')"
   ]
  },
  {
   "cell_type": "code",
   "execution_count": 198,
   "metadata": {},
   "outputs": [],
   "source": [
    "driver.close()\n",
    "driver.quit()"
   ]
  },
  {
   "cell_type": "code",
   "execution_count": null,
   "metadata": {},
   "outputs": [],
   "source": []
  }
 ],
 "metadata": {
  "kernelspec": {
   "display_name": "Python 3 (ipykernel)",
   "language": "python",
   "name": "python3"
  },
  "language_info": {
   "codemirror_mode": {
    "name": "ipython",
    "version": 3
   },
   "file_extension": ".py",
   "mimetype": "text/x-python",
   "name": "python",
   "nbconvert_exporter": "python",
   "pygments_lexer": "ipython3",
   "version": "3.9.10"
  }
 },
 "nbformat": 4,
 "nbformat_minor": 2
}
